{
 "cells": [
  {
   "cell_type": "markdown",
   "metadata": {},
   "source": [
    "## Observations and Insights "
   ]
  },
  {
   "cell_type": "markdown",
   "metadata": {},
   "source": []
  },
  {
   "cell_type": "code",
   "execution_count": 1,
   "metadata": {},
   "outputs": [
    {
     "data": {
      "text/html": [
       "<div>\n",
       "<style scoped>\n",
       "    .dataframe tbody tr th:only-of-type {\n",
       "        vertical-align: middle;\n",
       "    }\n",
       "\n",
       "    .dataframe tbody tr th {\n",
       "        vertical-align: top;\n",
       "    }\n",
       "\n",
       "    .dataframe thead th {\n",
       "        text-align: right;\n",
       "    }\n",
       "</style>\n",
       "<table border=\"1\" class=\"dataframe\">\n",
       "  <thead>\n",
       "    <tr style=\"text-align: right;\">\n",
       "      <th></th>\n",
       "      <th>Mouse ID</th>\n",
       "      <th>Drug Regimen</th>\n",
       "      <th>Sex</th>\n",
       "      <th>Age_months</th>\n",
       "      <th>Weight (g)</th>\n",
       "      <th>Timepoint</th>\n",
       "      <th>Tumor Volume (mm3)</th>\n",
       "      <th>Metastatic Sites</th>\n",
       "    </tr>\n",
       "  </thead>\n",
       "  <tbody>\n",
       "    <tr>\n",
       "      <th>0</th>\n",
       "      <td>k403</td>\n",
       "      <td>Ramicane</td>\n",
       "      <td>Male</td>\n",
       "      <td>21</td>\n",
       "      <td>16</td>\n",
       "      <td>0</td>\n",
       "      <td>45.000000</td>\n",
       "      <td>0</td>\n",
       "    </tr>\n",
       "    <tr>\n",
       "      <th>1</th>\n",
       "      <td>k403</td>\n",
       "      <td>Ramicane</td>\n",
       "      <td>Male</td>\n",
       "      <td>21</td>\n",
       "      <td>16</td>\n",
       "      <td>5</td>\n",
       "      <td>38.825898</td>\n",
       "      <td>0</td>\n",
       "    </tr>\n",
       "    <tr>\n",
       "      <th>2</th>\n",
       "      <td>k403</td>\n",
       "      <td>Ramicane</td>\n",
       "      <td>Male</td>\n",
       "      <td>21</td>\n",
       "      <td>16</td>\n",
       "      <td>10</td>\n",
       "      <td>35.014271</td>\n",
       "      <td>1</td>\n",
       "    </tr>\n",
       "    <tr>\n",
       "      <th>3</th>\n",
       "      <td>k403</td>\n",
       "      <td>Ramicane</td>\n",
       "      <td>Male</td>\n",
       "      <td>21</td>\n",
       "      <td>16</td>\n",
       "      <td>15</td>\n",
       "      <td>34.223992</td>\n",
       "      <td>1</td>\n",
       "    </tr>\n",
       "    <tr>\n",
       "      <th>4</th>\n",
       "      <td>k403</td>\n",
       "      <td>Ramicane</td>\n",
       "      <td>Male</td>\n",
       "      <td>21</td>\n",
       "      <td>16</td>\n",
       "      <td>20</td>\n",
       "      <td>32.997729</td>\n",
       "      <td>1</td>\n",
       "    </tr>\n",
       "  </tbody>\n",
       "</table>\n",
       "</div>"
      ],
      "text/plain": [
       "  Mouse ID Drug Regimen   Sex  Age_months  Weight (g)  Timepoint  \\\n",
       "0     k403     Ramicane  Male          21          16          0   \n",
       "1     k403     Ramicane  Male          21          16          5   \n",
       "2     k403     Ramicane  Male          21          16         10   \n",
       "3     k403     Ramicane  Male          21          16         15   \n",
       "4     k403     Ramicane  Male          21          16         20   \n",
       "\n",
       "   Tumor Volume (mm3)  Metastatic Sites  \n",
       "0           45.000000                 0  \n",
       "1           38.825898                 0  \n",
       "2           35.014271                 1  \n",
       "3           34.223992                 1  \n",
       "4           32.997729                 1  "
      ]
     },
     "execution_count": 1,
     "metadata": {},
     "output_type": "execute_result"
    }
   ],
   "source": [
    "# Dependencies and Setup\n",
    "import matplotlib.pyplot as plt\n",
    "import pandas as pd\n",
    "import scipy.stats as st\n",
    "import numpy as np\n",
    "\n",
    "# Study data files\n",
    "mouse_metadata_path = \"../data/Mouse_metadata.csv\"\n",
    "study_results_path = \"../data/Study_results.csv\"\n",
    "\n",
    "# Read the mouse data and the study results\n",
    "mouse_metadata = pd.read_csv(mouse_metadata_path)\n",
    "study_results = pd.read_csv(study_results_path)\n",
    "\n",
    "# Combine the data into a single dataset\n",
    "combined_df = mouse_metadata.merge(study_results, how='outer', on='Mouse ID')\n",
    "\n",
    "# Display the data table for preview\n",
    "combined_df.head()"
   ]
  },
  {
   "cell_type": "code",
   "execution_count": 2,
   "metadata": {},
   "outputs": [
    {
     "data": {
      "text/plain": [
       "1893"
      ]
     },
     "execution_count": 2,
     "metadata": {},
     "output_type": "execute_result"
    }
   ],
   "source": [
    "# Checking the number of mice.\n",
    "combined_df['Mouse ID'].value_counts().sum()"
   ]
  },
  {
   "cell_type": "code",
   "execution_count": 3,
   "metadata": {},
   "outputs": [],
   "source": [
    "# Getting the duplicate mice by ID number that shows up for Mouse ID and Timepoint. \n",
    "duplicate = combined_df[combined_df.duplicated(subset=['Mouse ID','Timepoint'])]"
   ]
  },
  {
   "cell_type": "code",
   "execution_count": 4,
   "metadata": {},
   "outputs": [],
   "source": [
    "# Optional: Get all the data for the duplicate mouse ID. \n",
    "all_duplicate = combined_df[combined_df.duplicated()]"
   ]
  },
  {
   "cell_type": "code",
   "execution_count": 5,
   "metadata": {},
   "outputs": [],
   "source": [
    "# Create a clean DataFrame by dropping the duplicate mouse by its ID.\n",
    "clean_df = combined_df.drop_duplicates(['Mouse ID'])"
   ]
  },
  {
   "cell_type": "code",
   "execution_count": 6,
   "metadata": {},
   "outputs": [
    {
     "data": {
      "text/plain": [
       "249"
      ]
     },
     "execution_count": 6,
     "metadata": {},
     "output_type": "execute_result"
    }
   ],
   "source": [
    "# Checking the number of mice in the clean DataFrame.\n",
    "clean_df = combined_df.drop_duplicates(['Mouse ID']).value_counts().sum()\n",
    "clean_df"
   ]
  },
  {
   "cell_type": "markdown",
   "metadata": {},
   "source": [
    "## Summary Statistics"
   ]
  },
  {
   "cell_type": "code",
   "execution_count": 7,
   "metadata": {},
   "outputs": [
    {
     "data": {
      "text/html": [
       "<div>\n",
       "<style scoped>\n",
       "    .dataframe tbody tr th:only-of-type {\n",
       "        vertical-align: middle;\n",
       "    }\n",
       "\n",
       "    .dataframe tbody tr th {\n",
       "        vertical-align: top;\n",
       "    }\n",
       "\n",
       "    .dataframe thead th {\n",
       "        text-align: right;\n",
       "    }\n",
       "</style>\n",
       "<table border=\"1\" class=\"dataframe\">\n",
       "  <thead>\n",
       "    <tr style=\"text-align: right;\">\n",
       "      <th></th>\n",
       "      <th>Mean</th>\n",
       "      <th>Median</th>\n",
       "      <th>Variance</th>\n",
       "      <th>Std</th>\n",
       "      <th>SEM</th>\n",
       "    </tr>\n",
       "    <tr>\n",
       "      <th>Drug Regimen</th>\n",
       "      <th></th>\n",
       "      <th></th>\n",
       "      <th></th>\n",
       "      <th></th>\n",
       "      <th></th>\n",
       "    </tr>\n",
       "  </thead>\n",
       "  <tbody>\n",
       "    <tr>\n",
       "      <th>Capomulin</th>\n",
       "      <td>40.675741</td>\n",
       "      <td>41.557809</td>\n",
       "      <td>24.947764</td>\n",
       "      <td>4.994774</td>\n",
       "      <td>0.329346</td>\n",
       "    </tr>\n",
       "    <tr>\n",
       "      <th>Ceftamin</th>\n",
       "      <td>52.591172</td>\n",
       "      <td>51.776157</td>\n",
       "      <td>39.290177</td>\n",
       "      <td>6.268188</td>\n",
       "      <td>0.469821</td>\n",
       "    </tr>\n",
       "    <tr>\n",
       "      <th>Infubinol</th>\n",
       "      <td>52.884795</td>\n",
       "      <td>51.820584</td>\n",
       "      <td>43.128684</td>\n",
       "      <td>6.567243</td>\n",
       "      <td>0.492236</td>\n",
       "    </tr>\n",
       "    <tr>\n",
       "      <th>Ketapril</th>\n",
       "      <td>55.235638</td>\n",
       "      <td>53.698743</td>\n",
       "      <td>68.553577</td>\n",
       "      <td>8.279709</td>\n",
       "      <td>0.603860</td>\n",
       "    </tr>\n",
       "    <tr>\n",
       "      <th>Naftisol</th>\n",
       "      <td>54.331565</td>\n",
       "      <td>52.509285</td>\n",
       "      <td>66.173479</td>\n",
       "      <td>8.134708</td>\n",
       "      <td>0.596466</td>\n",
       "    </tr>\n",
       "    <tr>\n",
       "      <th>Placebo</th>\n",
       "      <td>54.033581</td>\n",
       "      <td>52.288934</td>\n",
       "      <td>61.168083</td>\n",
       "      <td>7.821003</td>\n",
       "      <td>0.581331</td>\n",
       "    </tr>\n",
       "    <tr>\n",
       "      <th>Propriva</th>\n",
       "      <td>52.322552</td>\n",
       "      <td>50.854632</td>\n",
       "      <td>42.351070</td>\n",
       "      <td>6.507770</td>\n",
       "      <td>0.512884</td>\n",
       "    </tr>\n",
       "    <tr>\n",
       "      <th>Ramicane</th>\n",
       "      <td>40.216745</td>\n",
       "      <td>40.673236</td>\n",
       "      <td>23.486704</td>\n",
       "      <td>4.846308</td>\n",
       "      <td>0.320955</td>\n",
       "    </tr>\n",
       "    <tr>\n",
       "      <th>Stelasyn</th>\n",
       "      <td>54.233149</td>\n",
       "      <td>52.431737</td>\n",
       "      <td>59.450562</td>\n",
       "      <td>7.710419</td>\n",
       "      <td>0.573111</td>\n",
       "    </tr>\n",
       "    <tr>\n",
       "      <th>Zoniferol</th>\n",
       "      <td>53.236507</td>\n",
       "      <td>51.818479</td>\n",
       "      <td>48.533355</td>\n",
       "      <td>6.966589</td>\n",
       "      <td>0.516398</td>\n",
       "    </tr>\n",
       "  </tbody>\n",
       "</table>\n",
       "</div>"
      ],
      "text/plain": [
       "                   Mean     Median   Variance       Std       SEM\n",
       "Drug Regimen                                                     \n",
       "Capomulin     40.675741  41.557809  24.947764  4.994774  0.329346\n",
       "Ceftamin      52.591172  51.776157  39.290177  6.268188  0.469821\n",
       "Infubinol     52.884795  51.820584  43.128684  6.567243  0.492236\n",
       "Ketapril      55.235638  53.698743  68.553577  8.279709  0.603860\n",
       "Naftisol      54.331565  52.509285  66.173479  8.134708  0.596466\n",
       "Placebo       54.033581  52.288934  61.168083  7.821003  0.581331\n",
       "Propriva      52.322552  50.854632  42.351070  6.507770  0.512884\n",
       "Ramicane      40.216745  40.673236  23.486704  4.846308  0.320955\n",
       "Stelasyn      54.233149  52.431737  59.450562  7.710419  0.573111\n",
       "Zoniferol     53.236507  51.818479  48.533355  6.966589  0.516398"
      ]
     },
     "execution_count": 7,
     "metadata": {},
     "output_type": "execute_result"
    }
   ],
   "source": [
    "# Generate a summary statistics table of mean, median, variance, standard deviation, and SEM of the tumor volume for each regimen\n",
    "\n",
    "# Use groupby and summary statistical methods to calculate the following properties of each drug regimen: \n",
    "tumor_mean = combined_df.groupby('Drug Regimen')['Tumor Volume (mm3)'].mean()\n",
    "tumor_median = combined_df.groupby('Drug Regimen')['Tumor Volume (mm3)'].median()\n",
    "tumor_var = combined_df.groupby('Drug Regimen')['Tumor Volume (mm3)'].var()\n",
    "tumor_std = combined_df.groupby('Drug Regimen')['Tumor Volume (mm3)'].std()\n",
    "tumor_sem = combined_df.groupby('Drug Regimen')['Tumor Volume (mm3)'].sem()\n",
    "\n",
    "\n",
    "# mean, median, variance, standard deviation, and SEM of the tumor volume. \n",
    "# Assemble the resulting series into a single summary data\n",
    "\n",
    "stats_summary_df = pd.DataFrame({\"Mean\": tumor_mean, \"Median\": tumor_median, \n",
    "                                 \"Variance\": tumor_var, \"Std\": tumor_std,\n",
    "                                 \"SEM\": tumor_sem})\n",
    "stats_summary_df\n"
   ]
  },
  {
   "cell_type": "code",
   "execution_count": 8,
   "metadata": {},
   "outputs": [
    {
     "data": {
      "text/html": [
       "<div>\n",
       "<style scoped>\n",
       "    .dataframe tbody tr th:only-of-type {\n",
       "        vertical-align: middle;\n",
       "    }\n",
       "\n",
       "    .dataframe tbody tr th {\n",
       "        vertical-align: top;\n",
       "    }\n",
       "\n",
       "    .dataframe thead th {\n",
       "        text-align: right;\n",
       "    }\n",
       "</style>\n",
       "<table border=\"1\" class=\"dataframe\">\n",
       "  <thead>\n",
       "    <tr style=\"text-align: right;\">\n",
       "      <th></th>\n",
       "      <th>Mean</th>\n",
       "      <th>Median</th>\n",
       "      <th>Var</th>\n",
       "      <th>Std</th>\n",
       "      <th>SEM</th>\n",
       "    </tr>\n",
       "    <tr>\n",
       "      <th>Drug Regimen</th>\n",
       "      <th></th>\n",
       "      <th></th>\n",
       "      <th></th>\n",
       "      <th></th>\n",
       "      <th></th>\n",
       "    </tr>\n",
       "  </thead>\n",
       "  <tbody>\n",
       "    <tr>\n",
       "      <th>Capomulin</th>\n",
       "      <td>40.675741</td>\n",
       "      <td>41.557809</td>\n",
       "      <td>24.947764</td>\n",
       "      <td>4.994774</td>\n",
       "      <td>0.329346</td>\n",
       "    </tr>\n",
       "    <tr>\n",
       "      <th>Ceftamin</th>\n",
       "      <td>52.591172</td>\n",
       "      <td>51.776157</td>\n",
       "      <td>39.290177</td>\n",
       "      <td>6.268188</td>\n",
       "      <td>0.469821</td>\n",
       "    </tr>\n",
       "    <tr>\n",
       "      <th>Infubinol</th>\n",
       "      <td>52.884795</td>\n",
       "      <td>51.820584</td>\n",
       "      <td>43.128684</td>\n",
       "      <td>6.567243</td>\n",
       "      <td>0.492236</td>\n",
       "    </tr>\n",
       "    <tr>\n",
       "      <th>Ketapril</th>\n",
       "      <td>55.235638</td>\n",
       "      <td>53.698743</td>\n",
       "      <td>68.553577</td>\n",
       "      <td>8.279709</td>\n",
       "      <td>0.603860</td>\n",
       "    </tr>\n",
       "    <tr>\n",
       "      <th>Naftisol</th>\n",
       "      <td>54.331565</td>\n",
       "      <td>52.509285</td>\n",
       "      <td>66.173479</td>\n",
       "      <td>8.134708</td>\n",
       "      <td>0.596466</td>\n",
       "    </tr>\n",
       "    <tr>\n",
       "      <th>Placebo</th>\n",
       "      <td>54.033581</td>\n",
       "      <td>52.288934</td>\n",
       "      <td>61.168083</td>\n",
       "      <td>7.821003</td>\n",
       "      <td>0.581331</td>\n",
       "    </tr>\n",
       "    <tr>\n",
       "      <th>Propriva</th>\n",
       "      <td>52.322552</td>\n",
       "      <td>50.854632</td>\n",
       "      <td>42.351070</td>\n",
       "      <td>6.507770</td>\n",
       "      <td>0.512884</td>\n",
       "    </tr>\n",
       "    <tr>\n",
       "      <th>Ramicane</th>\n",
       "      <td>40.216745</td>\n",
       "      <td>40.673236</td>\n",
       "      <td>23.486704</td>\n",
       "      <td>4.846308</td>\n",
       "      <td>0.320955</td>\n",
       "    </tr>\n",
       "    <tr>\n",
       "      <th>Stelasyn</th>\n",
       "      <td>54.233149</td>\n",
       "      <td>52.431737</td>\n",
       "      <td>59.450562</td>\n",
       "      <td>7.710419</td>\n",
       "      <td>0.573111</td>\n",
       "    </tr>\n",
       "    <tr>\n",
       "      <th>Zoniferol</th>\n",
       "      <td>53.236507</td>\n",
       "      <td>51.818479</td>\n",
       "      <td>48.533355</td>\n",
       "      <td>6.966589</td>\n",
       "      <td>0.516398</td>\n",
       "    </tr>\n",
       "  </tbody>\n",
       "</table>\n",
       "</div>"
      ],
      "text/plain": [
       "                   Mean     Median        Var       Std       SEM\n",
       "Drug Regimen                                                     \n",
       "Capomulin     40.675741  41.557809  24.947764  4.994774  0.329346\n",
       "Ceftamin      52.591172  51.776157  39.290177  6.268188  0.469821\n",
       "Infubinol     52.884795  51.820584  43.128684  6.567243  0.492236\n",
       "Ketapril      55.235638  53.698743  68.553577  8.279709  0.603860\n",
       "Naftisol      54.331565  52.509285  66.173479  8.134708  0.596466\n",
       "Placebo       54.033581  52.288934  61.168083  7.821003  0.581331\n",
       "Propriva      52.322552  50.854632  42.351070  6.507770  0.512884\n",
       "Ramicane      40.216745  40.673236  23.486704  4.846308  0.320955\n",
       "Stelasyn      54.233149  52.431737  59.450562  7.710419  0.573111\n",
       "Zoniferol     53.236507  51.818479  48.533355  6.966589  0.516398"
      ]
     },
     "execution_count": 8,
     "metadata": {},
     "output_type": "execute_result"
    }
   ],
   "source": [
    "# Generate a summary statistics table of mean, median, variance, standard deviation, and SEM of the tumor volume for each regimen\n",
    "\n",
    "# Using the aggregation method, produce the same summary statistics in a single line\n",
    "stats_summary_df1 = combined_df.groupby('Drug Regimen')['Tumor Volume (mm3)'].agg(Mean = 'mean', Median='median', Var='var', Std='std', SEM='sem')\n",
    "stats_summary_df1"
   ]
  },
  {
   "cell_type": "markdown",
   "metadata": {},
   "source": [
    "## Bar and Pie Charts"
   ]
  },
  {
   "cell_type": "code",
   "execution_count": 9,
   "metadata": {},
   "outputs": [
    {
     "data": {
      "image/png": "[encoded data removed]",
      "text/plain": [
       "<Figure size 720x432 with 1 Axes>"
      ]
     },
     "metadata": {
      "needs_background": "light"
     },
     "output_type": "display_data"
    }
   ],
   "source": [
    "# Generate a bar plot showing the total number of timepoints for all mice tested for each drug regimen using Pandas.\n",
    "timepoint_count = combined_df.groupby(['Drug Regimen'])['Mouse ID'].count()\n",
    "timepoint_count.plot(kind=\"bar\", figsize=(10,6), color='r', alpha=0.5, align=\"center\")\n",
    "plt.xlabel(\"Drug Regimens\")\n",
    "plt.ylabel(\"Timepoints\")\n",
    "plt.show()"
   ]
  },
  {
   "cell_type": "code",
   "execution_count": 15,
   "metadata": {},
   "outputs": [
    {
     "data": {
      "image/png": "[encoded data removed]",
      "text/plain": [
       "<Figure size 576x432 with 1 Axes>"
      ]
     },
     "metadata": {
      "needs_background": "light"
     },
     "output_type": "display_data"
    }
   ],
   "source": [
    "# Generate a bar plot showing the total number of timepoints for all mice tested for each drug regimen using pyplot\n",
    "user = list(timepoint_count)\n",
    "x_axis = np.arange(len(user))\n",
    "x_axis_names = list(combined_df['Drug Regimen'].unique())\n",
    "\n",
    "plt.bar(x_axis,user, color='r', alpha=0.5, align=\"center\")\n",
    "tick_labels = ['Capomulin','Ceftamin','Infubinol','Ketapril','Naftisol','Placebo','Propriva','Ramicane',\n",
    "              'Stelasyn','Zoniferol']\n",
    "plt.xticks(tick_locations, tick_labels)\n",
    "plt.rcParams[\"figure.figsize\"] = (6,6)\n",
    "plt.xticks(rotation=90)\n",
    "plt.xlabel(\"Drug Regimens\")\n",
    "plt.ylabel(\"Timepoints\")\n",
    "plt.show()\n"
   ]
  },
  {
   "cell_type": "code",
   "execution_count": 16,
   "metadata": {},
   "outputs": [
    {
     "data": {
      "image/png": "[encoded data removed]",
      "text/plain": [
       "<Figure size 432x432 with 1 Axes>"
      ]
     },
     "metadata": {},
     "output_type": "display_data"
    }
   ],
   "source": [
    "# Generate a pie plot showing the distribution of female versus male mice using Pandas\n",
    "gender_df = combined_df.groupby(['Sex','Mouse ID']).size()\n",
    "\n",
    "gender_count = gender_df.groupby(['Sex']).count()\n",
    "percentage = round(100 * gender_count / gender_count.sum(),2)\n",
    "\n",
    "gender_df = pd.DataFrame({\"Count\": gender_count, \"Percentage\": percentage})\n",
    "colors = ['green', 'yellow']\n",
    "explode = (0.1, 0)\n",
    "gender_pieplot_pandas = gender_df.plot.pie(y='Count',figsize=(6,6), colors = colors,\n",
    "                                           startangle=120, explode = explode, shadow = True, autopct=\"%1.1f%%\")"
   ]
  },
  {
   "cell_type": "code",
   "execution_count": 17,
   "metadata": {},
   "outputs": [
    {
     "data": {
      "image/png": "[encoded data removed]",
      "text/plain": [
       "<Figure size 432x432 with 1 Axes>"
      ]
     },
     "metadata": {},
     "output_type": "display_data"
    }
   ],
   "source": [
    "# Generate a pie plot showing the distribution of female versus male mice using pyplot\n",
    "\n",
    "labels = ['Female', 'Male']\n",
    "colors = ['green', 'yellow']\n",
    "explode = (0.1, 0)\n",
    "\n",
    "plt.pie(percentage, explode=explode, labels=labels, colors=colors, autopct=\"%1.1f%%\", shadow=True, startangle=120)\n",
    "\n",
    "plt.show()"
   ]
  },
  {
   "cell_type": "markdown",
   "metadata": {},
   "source": [
    "## Quartiles, Outliers and Boxplots"
   ]
  },
  {
   "cell_type": "code",
   "execution_count": 18,
   "metadata": {
    "scrolled": true
   },
   "outputs": [
    {
     "name": "stdout",
     "output_type": "stream",
     "text": [
      "The lower quartile of Capomulin tumor volume is: 32.38\n",
      "The upper quartile of Capomulin tumor volume is: 40.16\n",
      "The interquartile range of Capomulin tumor volume is: 7.78\n",
      "The median of Capomulin tumor volume is: 38.13 \n",
      "Values below 20.71 could be outliers.\n",
      "Values above 51.83 could be outliers.\n",
      "Total outliers found: 0 out of 25 \n",
      "----------------------------------------------------------\n",
      "The lower quartile of Ramicane tumor volume is: 31.56\n",
      "The upper quartile of Ramicane tumor volume is: 40.66\n",
      "The interquartile range of Ramicane tumor volume is: 9.1\n",
      "The median of Ramicane tumor volume is: 36.56 \n",
      "Values below 17.91 could be outliers.\n",
      "Values above 54.31 could be outliers.\n",
      "Total outliers found: 0 out of 25 \n",
      "----------------------------------------------------------\n",
      "The lower quartile of Infubinol tumor volume is: 54.05\n",
      "The upper quartile of Infubinol tumor volume is: 65.53\n",
      "The interquartile range of Infubinol tumor volume is: 11.48\n",
      "The median of Infubinol tumor volume is: 60.17 \n",
      "Values below 36.83 could be outliers.\n",
      "Values above 82.75 could be outliers.\n",
      "Total outliers found: 1 out of 25 \n",
      "----------------------------------------------------------\n",
      "The lower quartile of Ceftamin tumor volume is: 48.72\n",
      "The upper quartile of Ceftamin tumor volume is: 64.3\n",
      "The interquartile range of Ceftamin tumor volume is: 15.58\n",
      "The median of Ceftamin tumor volume is: 59.85 \n",
      "Values below 25.35 could be outliers.\n",
      "Values above 87.67 could be outliers.\n",
      "Total outliers found: 0 out of 25 \n"
     ]
    }
   ],
   "source": [
    "# Calculate the final tumor volume of each mouse across four of the treatment regimens:  \n",
    "# Capomulin, Ramicane, Infubinol, and Ceftamin\n",
    "capomulin_df = combined_df.loc[combined_df[\"Drug Regimen\"] == \"Capomulin\",:]\n",
    "ramicane_df = combined_df.loc[combined_df[\"Drug Regimen\"] == \"Ramicane\", :]\n",
    "infubinol_df = combined_df.loc[combined_df[\"Drug Regimen\"] == \"Infubinol\", :]\n",
    "ceftamin_df = combined_df.loc[combined_df[\"Drug Regimen\"] == \"Ceftamin\", :]\n",
    "\n",
    "#Capomulin\n",
    "# Start by getting the last (greatest) timepoint for each mouse\n",
    "cap_last = capomulin_df.groupby('Mouse ID')['Timepoint'].max()\n",
    "\n",
    "# Merge this group df with the original dataframe to get the tumor volume at the last timepoint\n",
    "cap_merge = pd.merge(cap_last, combined_df, on=(\"Mouse ID\",\"Timepoint\"),how=\"left\")\n",
    "\n",
    "#calculate quartiles, boundaries and outliers\n",
    "quartiles = cap_merge[\"Tumor Volume (mm3)\"].quantile([.25,.5,.75])\n",
    "lowerq = round(quartiles[0.25],2)\n",
    "upperq = round(quartiles[0.75],2)\n",
    "iqr = round(upperq-lowerq,2)\n",
    "median = round(quartiles[0.5],2)\n",
    "lower_bound = round(lowerq - (1.5*iqr),2)\n",
    "upper_bound = round(upperq + (1.5*iqr),2)\n",
    "outlier_capomulin = cap_merge.loc[(cap_merge['Tumor Volume (mm3)'] < lower_bound) | (cap_merge['Tumor Volume (mm3)'] > upper_bound)]\n",
    "outliers_cap = outlier_capomulin.shape[0]\n",
    "total_qty_cap = cap_merge['Tumor Volume (mm3)'].size\n",
    "\n",
    "print(f\"The lower quartile of Capomulin tumor volume is: {lowerq}\")\n",
    "print(f\"The upper quartile of Capomulin tumor volume is: {upperq}\")\n",
    "print(f\"The interquartile range of Capomulin tumor volume is: {iqr}\")\n",
    "print(f\"The median of Capomulin tumor volume is: {median} \")\n",
    "print(f\"Values below {lower_bound} could be outliers.\")\n",
    "print(f\"Values above {upper_bound} could be outliers.\")\n",
    "print(f\"Total outliers found: {outliers_cap} out of {total_qty_cap} \")\n",
    "\n",
    "#Ramicane\n",
    "# Start by getting the last (greatest) timepoint for each mouse\n",
    "ram_last = ramicane_df.groupby('Mouse ID')['Timepoint'].max()\n",
    "\n",
    "# Merge this group df with the original dataframe to get the tumor volume at the last timepoint\n",
    "ram_merge = pd.merge(ram_last, combined_df, on=(\"Mouse ID\",\"Timepoint\"),how=\"left\")\n",
    "\n",
    "#calculate quartiles, boundaries and outliers\n",
    "quartiles = ram_merge[\"Tumor Volume (mm3)\"].quantile([.25,.5,.75])\n",
    "lowerq = round(quartiles[0.25],2)\n",
    "upperq = round(quartiles[0.75],2)\n",
    "iqr = round(upperq-lowerq,2)\n",
    "median = round(quartiles[0.5],2)\n",
    "lower_bound = round(lowerq - (1.5*iqr),2)\n",
    "upper_bound = round(upperq + (1.5*iqr),2)\n",
    "outlier_ramicane = ram_merge.loc[(ram_merge['Tumor Volume (mm3)'] < lower_bound) | (ram_merge['Tumor Volume (mm3)'] > upper_bound)]\n",
    "outliers_ram = outlier_ramicane.shape[0]\n",
    "total_qty_ram = ram_merge['Tumor Volume (mm3)'].size\n",
    "print('----------------------------------------------------------')\n",
    "print(f\"The lower quartile of Ramicane tumor volume is: {lowerq}\")\n",
    "print(f\"The upper quartile of Ramicane tumor volume is: {upperq}\")\n",
    "print(f\"The interquartile range of Ramicane tumor volume is: {iqr}\")\n",
    "print(f\"The median of Ramicane tumor volume is: {median} \")\n",
    "print(f\"Values below {lower_bound} could be outliers.\")\n",
    "print(f\"Values above {upper_bound} could be outliers.\")\n",
    "print(f\"Total outliers found: {outliers_ram} out of {total_qty_ram} \")\n",
    "\n",
    "#Infubinol\n",
    "# Start by getting the last (greatest) timepoint for each mouse\n",
    "inf_last = infubinol_df.groupby('Mouse ID')['Timepoint'].max()\n",
    "\n",
    "# Merge this group df with the original dataframe to get the tumor volume at the last timepoint\n",
    "inf_merge = pd.merge(inf_last, combined_df, on=(\"Mouse ID\",\"Timepoint\"),how=\"left\")\n",
    "\n",
    "#calculate quartiles, boundaries and outliers\n",
    "quartiles = inf_merge[\"Tumor Volume (mm3)\"].quantile([.25,.5,.75])\n",
    "lowerq = round(quartiles[0.25],2)\n",
    "upperq = round(quartiles[0.75],2)\n",
    "iqr = round(upperq-lowerq,2)\n",
    "median = round(quartiles[0.5],2)\n",
    "lower_bound = round(lowerq - (1.5*iqr),2)\n",
    "upper_bound = round(upperq + (1.5*iqr),2)\n",
    "outlier_infubinol = inf_merge.loc[(inf_merge['Tumor Volume (mm3)'] < lower_bound) | (inf_merge['Tumor Volume (mm3)'] > upper_bound)]\n",
    "outliers_inf = outlier_infubinol.shape[0]\n",
    "total_qty_inf = inf_merge['Tumor Volume (mm3)'].size\n",
    "print('----------------------------------------------------------')\n",
    "print(f\"The lower quartile of Infubinol tumor volume is: {lowerq}\")\n",
    "print(f\"The upper quartile of Infubinol tumor volume is: {upperq}\")\n",
    "print(f\"The interquartile range of Infubinol tumor volume is: {iqr}\")\n",
    "print(f\"The median of Infubinol tumor volume is: {median} \")\n",
    "print(f\"Values below {lower_bound} could be outliers.\")\n",
    "print(f\"Values above {upper_bound} could be outliers.\")\n",
    "print(f\"Total outliers found: {outliers_inf} out of {total_qty_inf} \")\n",
    "\n",
    "#Ceftamin\n",
    "# Start by getting the last (greatest) timepoint for each mouse\n",
    "cef_last = ceftamin_df.groupby('Mouse ID')['Timepoint'].max()\n",
    "\n",
    "# Merge this group df with the original dataframe to get the tumor volume at the last timepoint\n",
    "cef_merge = pd.merge(cef_last, combined_df, on=(\"Mouse ID\",\"Timepoint\"),how=\"left\")\n",
    "\n",
    "# Calculate the IQR and quantitatively determine if there are any potential outliers. \n",
    "quartiles = cef_merge[\"Tumor Volume (mm3)\"].quantile([.25,.5,.75])\n",
    "lowerq = round(quartiles[0.25],2)\n",
    "upperq = round(quartiles[0.75],2)\n",
    "iqr = round(upperq-lowerq,2)\n",
    "median = round(quartiles[0.5],2)\n",
    "lower_bound = round(lowerq - (1.5*iqr),2)\n",
    "upper_bound = round(upperq + (1.5*iqr),2)\n",
    "\n",
    "outlier_ceftamin = cef_merge.loc[(cef_merge['Tumor Volume (mm3)'] < lower_bound) | (cef_merge['Tumor Volume (mm3)'] > upper_bound)]\n",
    "outliers_cef = outlier_ceftamin.shape[0]\n",
    "total_qty_cef = cef_merge['Tumor Volume (mm3)'].size\n",
    "print('----------------------------------------------------------')\n",
    "print(f\"The lower quartile of Ceftamin tumor volume is: {lowerq}\")\n",
    "print(f\"The upper quartile of Ceftamin tumor volume is: {upperq}\")\n",
    "print(f\"The interquartile range of Ceftamin tumor volume is: {iqr}\")\n",
    "print(f\"The median of Ceftamin tumor volume is: {median} \")\n",
    "print(f\"Values below {lower_bound} could be outliers.\")\n",
    "print(f\"Values above {upper_bound} could be outliers.\")\n",
    "print(f\"Total outliers found: {outliers_cef} out of {total_qty_cef} \")"
   ]
  },
  {
   "cell_type": "code",
   "execution_count": 19,
   "metadata": {},
   "outputs": [
    {
     "data": {
      "image/png": "[encoded data removed]",
      "text/plain": [
       "<Figure size 576x576 with 1 Axes>"
      ]
     },
     "metadata": {
      "needs_background": "light"
     },
     "output_type": "display_data"
    }
   ],
   "source": [
    "# Generate a box plot of the final tumor volume of each mouse across four regimens of interest\n",
    "selected_regimens= combined_df[combined_df[\"Drug Regimen\"].isin([\"Capomulin\", \"Ramicane\", \"Infubinol\", \"Ceftamin\"])]\n",
    "selected_regimen_data = selected_regimens[[\"Drug Regimen\", \"Mouse ID\", \"Timepoint\", \"Tumor Volume (mm3)\"]]\n",
    "last_timepoint_df = selected_regimen_data.sort_values('Timepoint').groupby('Mouse ID').tail(1)\n",
    "\n",
    "# Put treatments into a list for for loop (and later for plot labels)\n",
    "tumor_list = pd.DataFrame(last_timepoint_df.groupby('Drug Regimen')['Tumor Volume (mm3)'].apply(list))\n",
    "\n",
    "treatments = ['Capomulin', 'Ramicane', 'Infubinol','Ceftamin']\n",
    "\n",
    "tumor_list = tumor_list.reindex(treatments)\n",
    "\n",
    "tumor_volumes = [v for v in tumor_list['Tumor Volume (mm3)']]\n",
    "\n",
    "plt.figure(figsize=(8,8))\n",
    "plt.ylabel('Tumor volume')\n",
    "plt.boxplot(tumor_volumes, labels=treatments)\n",
    "plt.show()\n"
   ]
  },
  {
   "cell_type": "markdown",
   "metadata": {},
   "source": [
    "## Line and Scatter Plots"
   ]
  },
  {
   "cell_type": "code",
   "execution_count": 24,
   "metadata": {},
   "outputs": [
    {
     "data": {
      "image/png": "[encoded data removed]",
      "text/plain": [
       "<Figure size 432x432 with 1 Axes>"
      ]
     },
     "metadata": {
      "needs_background": "light"
     },
     "output_type": "display_data"
    }
   ],
   "source": [
    "# Generate a line plot of tumor volume vs. time point for a mouse treated with Capomulin\n",
    "cap_line = capomulin_df.loc[capomulin_df['Mouse ID']=='s185',:]\n",
    "x_axis = cap_line['Timepoint']\n",
    "y_axis = cap_line['Tumor Volume (mm3)']\n",
    "\n",
    "plt.plot(x_axis, y_axis,linewidth=2, markersize=10,marker=\"x\",color=\"red\")\n",
    "#plt.title('Capomulin treatment of mouse s185')\n",
    "plt.xlabel('Timepoint',fontsize =10)\n",
    "plt.ylabel('Tumor Volume mm3',fontsize =10)\n",
    "\n",
    "plt.show()"
   ]
  },
  {
   "cell_type": "code",
   "execution_count": 27,
   "metadata": {},
   "outputs": [
    {
     "data": {
      "image/png": "[encoded data removed]",
      "text/plain": [
       "<Figure size 576x432 with 1 Axes>"
      ]
     },
     "metadata": {
      "needs_background": "light"
     },
     "output_type": "display_data"
    }
   ],
   "source": [
    "# Generate a scatter plot of average tumor volume vs. mouse weight for the Capomulin regimen\n",
    "capomulin_df = combined_df.loc[combined_df[\"Drug Regimen\"] == \"Capomulin\",:]\n",
    "grouped_df = pd.DataFrame(capomulin_df.groupby(['Weight (g)'])['Tumor Volume (mm3)'].mean()).reset_index()\n",
    "capomulin_scatter_plot = grouped_df.plot(kind='scatter', x='Weight (g)', y='Tumor Volume (mm3)', grid = True, figsize= (8,6),\n",
    "                                      s=60, color=\"green\", title=\"Average Tumor Volume vs. Mouse Weight\")"
   ]
  },
  {
   "cell_type": "markdown",
   "metadata": {},
   "source": [
    "## Correlation and Regression"
   ]
  },
  {
   "cell_type": "code",
   "execution_count": 31,
   "metadata": {},
   "outputs": [
    {
     "name": "stdout",
     "output_type": "stream",
     "text": [
      "The correlation coefficient between mouse weight and tumor volume is 0.95\n"
     ]
    },
    {
     "data": {
      "image/png": "[encoded data removed]",
      "text/plain": [
       "<Figure size 432x432 with 1 Axes>"
      ]
     },
     "metadata": {
      "needs_background": "light"
     },
     "output_type": "display_data"
    }
   ],
   "source": [
    "# Calculate the correlation coefficient and linear regression model \n",
    "# for mouse weight and average tumor volume for the Capomulin regimen\n",
    "corr, _ = st.pearsonr(grouped_df[\"Weight (g)\"],grouped_df[\"Tumor Volume (mm3)\"])\n",
    "print(f\"The correlation coefficient between mouse weight and tumor volume is {round(corr, 2)}\")\n",
    "weight = grouped_df['Weight (g)']\n",
    "tumorvolume = grouped_df['Tumor Volume (mm3)']\n",
    "\n",
    "#create scatter plot in order to show linear regression on \n",
    "plt.scatter(weight, tumorvolume)\n",
    "plt.xticks(weight)\n",
    "plt.xlabel('Weight')\n",
    "plt.ylabel('Tumor volume')\n",
    "plt.tight_layout()\n",
    "\n",
    "#create linear regression model\n",
    "vc_slope, vc_int, vc_r, vc_p, vc_std_err = st.linregress(weight, tumorvolume)\n",
    "vc_fit = vc_slope * weight + vc_int\n",
    "#display linear regression model on plot\n",
    "plt.plot(weight,vc_fit,\"--\")\n",
    "plt.show()"
   ]
  },
  {
   "cell_type": "code",
   "execution_count": null,
   "metadata": {},
   "outputs": [],
   "source": []
  }
 ],
 "metadata": {
  "anaconda-cloud": {},
  "kernelspec": {
   "display_name": "Python 3",
   "language": "python",
   "name": "python3"
  },
  "language_info": {
   "codemirror_mode": {
    "name": "ipython",
    "version": 3
   },
   "file_extension": ".py",
   "mimetype": "text/x-python",
   "name": "python",
   "nbconvert_exporter": "python",
   "pygments_lexer": "ipython3",
   "version": "3.8.10"
  }
 },
 "nbformat": 4,
 "nbformat_minor": 4
}
